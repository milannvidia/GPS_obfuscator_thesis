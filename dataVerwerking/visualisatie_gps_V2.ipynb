{
 "cells": [
  {
   "cell_type": "code",
   "execution_count": 1,
   "metadata": {},
   "outputs": [],
   "source": [
    "# imports\n",
    "import pandas as pd\n",
    "import folium\n",
    "from folium.plugins import MarkerCluster\n",
    "from dotenv import load_dotenv\n",
    "import os\n",
    "from typing import Callable\n",
    "\n",
    "load_dotenv()\n",
    "raw_data_folder = os.getenv(\"rawDataDirectory\")\n",
    "data_folder = os.getenv(\"dataFolder\")\n",
    "privateLatStr = os.getenv(\"privateLat\")\n",
    "privateLonStr = os.getenv(\"privateLon\")\n",
    "privateRadStr = os.getenv(\"privateRad\")\n",
    "\n",
    "assert (\n",
    "    privateLatStr is not None\n",
    "    and privateLonStr is not None\n",
    "    and privateRadStr is not None\n",
    ")\n",
    "\n",
    "privateLat = float(privateLatStr)\n",
    "privateLon = float(privateLonStr)\n",
    "privateRad = float(privateRadStr)\n",
    "\n",
    "from util.clean_file import filter_by_distance\n",
    "\n",
    "filterFunction: Callable[[float, float], bool] = lambda lat, lon: filter_by_distance(\n",
    "    (lat, lon), (privateLat, privateLon, privateRad)\n",
    ")"
   ]
  },
  {
   "cell_type": "code",
   "execution_count": 2,
   "metadata": {},
   "outputs": [
    {
     "name": "stdout",
     "output_type": "stream",
     "text": [
      "(2584, 8)\n",
      "(2413, 8)\n"
     ]
    }
   ],
   "source": [
    "init = pd.read_csv(\n",
    "    f\"{raw_data_folder}/data_V2\",\n",
    "    delimiter=\";\",\n",
    "    header=0,\n",
    "    dtype={\n",
    "        \"finePermission\": bool,\n",
    "        \"foreGround\": bool,\n",
    "        \"priority\": int,\n",
    "        \"user\": str,\n",
    "        \"latitude\": float,\n",
    "        \"longitude\": float,\n",
    "        \"time\": int,\n",
    "        \"accuracy\": float,\n",
    "    },\n",
    ")\n",
    "init[\"time\"] = pd.to_datetime(init[\"time\"], unit=\"ms\")  # type: ignore\n",
    "print(init.shape)\n",
    "data = init[\n",
    "    init.apply(\n",
    "        lambda row: filterFunction(row[\"latitude\"], row[\"longitude\"]), # type: ignore\n",
    "        axis=1,\n",
    "    )\n",
    "]\n",
    "print(data.shape)"
   ]
  },
  {
   "cell_type": "code",
   "execution_count": 3,
   "metadata": {},
   "outputs": [
    {
     "name": "stdout",
     "output_type": "stream",
     "text": [
      "date\n",
      "2024-10-15     315\n",
      "2024-10-16     529\n",
      "2024-10-18    1569\n",
      "dtype: int64\n"
     ]
    },
    {
     "name": "stderr",
     "output_type": "stream",
     "text": [
      "C:\\Users\\MilanSchollier\\AppData\\Local\\Temp\\ipykernel_10648\\4101109088.py:2: SettingWithCopyWarning: \n",
      "A value is trying to be set on a copy of a slice from a DataFrame.\n",
      "Try using .loc[row_indexer,col_indexer] = value instead\n",
      "\n",
      "See the caveats in the documentation: https://pandas.pydata.org/pandas-docs/stable/user_guide/indexing.html#returning-a-view-versus-a-copy\n",
      "  data['date'] = data['time'].dt.date\n"
     ]
    }
   ],
   "source": [
    "# data manipulation\n",
    "data['date'] = data['time'].dt.date\n",
    "groups=data.groupby('date')\n",
    "print(groups.size())"
   ]
  },
  {
   "cell_type": "code",
   "execution_count": 4,
   "metadata": {},
   "outputs": [
    {
     "name": "stdout",
     "output_type": "stream",
     "text": [
      "size of fine_high: 164\n",
      "size of fine_balanced: 112\n",
      "size of coarse_high: 25\n",
      "size of coarse_balanced: 14\n",
      "size of fine_high: 437\n",
      "size of fine_balanced: 59\n",
      "size of coarse_high: 26\n",
      "size of coarse_balanced: 7\n",
      "size of fine_high: 1163\n",
      "size of fine_balanced: 322\n",
      "size of coarse_high: 63\n",
      "size of coarse_balanced: 21\n"
     ]
    }
   ],
   "source": [
    "# maakt voor ieder device en per dag een groep aan\n",
    "for date, group in groups:\n",
    "    map = folium.Map(\n",
    "        location=[group[\"latitude\"].mean(), group[\"longitude\"].mean()], zoom_start=13\n",
    "    )\n",
    "\n",
    "    # voor masten(comment out if not needed)\n",
    "    # marker_cluster=MarkerCluster().add_to(map)\n",
    "    # for coord in coordinates:\n",
    "    #     folium.Marker([coord[1], coord[0]]).add_to(marker_cluster)\n",
    "\n",
    "    # 2 trails\n",
    "    fine_balanced = []\n",
    "    fine_high = []\n",
    "    coarse_balanced = []\n",
    "    coarse_high = []\n",
    "    for index, row in group.iterrows():\n",
    "        if row[\"finePermission\"]:\n",
    "            if row[\"priority\"] == 100:\n",
    "                fine_high.append((row[\"latitude\"], row[\"longitude\"]))\n",
    "            elif row[\"priority\"] == 102:\n",
    "                fine_balanced.append((row[\"latitude\"], row[\"longitude\"]))\n",
    "            else:\n",
    "                print(\"fine but no priority: \" + row[\"priority\"])\n",
    "        else:\n",
    "            if row[\"priority\"] == 100:\n",
    "                coarse_high.append((row[\"latitude\"], row[\"longitude\"]))\n",
    "            elif row[\"priority\"] == 102:\n",
    "                coarse_balanced.append((row[\"latitude\"], row[\"longitude\"]))\n",
    "            else:\n",
    "                print(\"coarse but no priority: \" + row[\"priority\"])\n",
    "    print(\"size of fine_high: \" + str(len(fine_high)))\n",
    "    print(\"size of fine_balanced: \" + str(len(fine_balanced)))\n",
    "    print(\"size of coarse_high: \" + str(len(coarse_high)))\n",
    "    print(\"size of coarse_balanced: \" + str(len(coarse_balanced)))\n",
    "    if len(fine_high)>0:\n",
    "        folium.PolyLine(\n",
    "            locations=fine_high,\n",
    "            color=\"#FF0000\",\n",
    "            tooltip=\"fine grained location and high accuracy\",\n",
    "        ).add_to(map)\n",
    "    if len(fine_balanced)>0:\n",
    "        folium.PolyLine(\n",
    "            locations=fine_balanced,\n",
    "            color=\"#FF0000\",\n",
    "            dash_array=\"10\",\n",
    "            tooltip=\"fine grained location and balanced accuracy\",\n",
    "        ).add_to(map)\n",
    "    if len(coarse_high)>0:\n",
    "        folium.PolyLine(\n",
    "            locations=coarse_high,\n",
    "            color=\"#0000FF\",\n",
    "            tooltip=\"coarse grained location and high accuracy\",\n",
    "        ).add_to(map)\n",
    "    if len(coarse_balanced)>0:\n",
    "        folium.PolyLine(\n",
    "            locations=coarse_balanced,\n",
    "            color=\"#0000FF\",\n",
    "            dash_array=\"10\",\n",
    "            tooltip=\"coarse grained location and balanced accuracy\",\n",
    "        ).add_to(map)\n",
    "    map.save(f\"{data_folder}/v2/{date}.html\")"
   ]
  }
 ],
 "metadata": {
  "kernelspec": {
   "display_name": ".venv",
   "language": "python",
   "name": "python3"
  },
  "language_info": {
   "codemirror_mode": {
    "name": "ipython",
    "version": 3
   },
   "file_extension": ".py",
   "mimetype": "text/x-python",
   "name": "python",
   "nbconvert_exporter": "python",
   "pygments_lexer": "ipython3",
   "version": "3.12.6"
  }
 },
 "nbformat": 4,
 "nbformat_minor": 2
}
