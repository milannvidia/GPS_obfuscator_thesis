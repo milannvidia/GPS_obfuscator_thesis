{
 "cells": [
  {
   "cell_type": "code",
   "execution_count": 1,
   "metadata": {},
   "outputs": [],
   "source": [
    "#imports\n",
    "import folium\n",
    "from folium.plugins import MarkerCluster\n",
    "from dotenv import load_dotenv\n",
    "import os\n",
    "data_folder = os.getenv(\"dataFolder\")\n",
    "staticFolder = os.getenv(\"staticFolder\")"
   ]
  },
  {
   "cell_type": "code",
   "execution_count": 2,
   "metadata": {},
   "outputs": [],
   "source": [
    "def read_files(\n",
    "    file_locations: str, file_blobs: str\n",
    ") -> tuple[list[tuple[float, float, int]], list[tuple[float, float, float]]]:\n",
    "    loc_list = []\n",
    "    blob_list = []\n",
    "    with open(file_locations, \"r\") as file:\n",
    "        for line in file:\n",
    "            # Remove any surrounding whitespace and split by comma\n",
    "            parts = line.strip().split(\",\")\n",
    "            # Convert parts to the appropriate types and create a tuple\n",
    "            tuple_item = (float(parts[0]), float(parts[1]), int(parts[2]))\n",
    "            loc_list.append(tuple_item)\n",
    "\n",
    "    with open(file_blobs, \"r\") as file:\n",
    "        for line in file:\n",
    "            # Remove any surrounding whitespace and split by comma\n",
    "            parts = line.strip().split(\",\")\n",
    "            # Convert parts to the appropriate types and create a tuple\n",
    "            tuple_item = (float(parts[0]), float(parts[1]), float(parts[2]))\n",
    "            blob_list.append(tuple_item)\n",
    "\n",
    "    return loc_list, blob_list"
   ]
  },
  {
   "cell_type": "code",
   "execution_count": 3,
   "metadata": {},
   "outputs": [],
   "source": [
    "good_trace = []\n",
    "with open(f\"{data_folder}/good_trace\", \"r\") as file:\n",
    "    for line in file:\n",
    "        # Remove any surrounding whitespace and split by comma\n",
    "        parts = line.strip().split(\",\")\n",
    "        # Convert parts to the appropriate types and create a tuple\n",
    "        tuple_item = (float(parts[0]), float(parts[1]), int(parts[2]))\n",
    "        good_trace.append(tuple_item)\n",
    "good_trace = [(lat, lon) for lat, lon, _ in good_trace]"
   ]
  },
  {
   "cell_type": "code",
   "execution_count": 4,
   "metadata": {},
   "outputs": [],
   "source": [
    "radiuses = [0, 50, 100, 200, 400, 800, 1600]\n",
    "time_deltas = [0, 60, 300, 600, 1800, 3600]\n",
    "\n",
    "for radius in radiuses:\n",
    "    for time_delta in time_deltas:\n",
    "        loc_file = f\"{data_folder}/obfuscated/{radius}_{time_delta}_res\"\n",
    "        blob_file = f\"{data_folder}/obfuscated/{radius}_{time_delta}_blobs\"\n",
    "        locations, blobs = read_files(loc_file, blob_file)\n",
    "        average_lat = sum([t[0] for t in locations]) / len(locations)\n",
    "        average_lon = sum([t[1] for t in locations]) / len(locations)\n",
    "        map = folium.Map(\n",
    "            location=[average_lat, average_lon],\n",
    "            zoom_start=13,\n",
    "        )\n",
    "\n",
    "        folium.PolyLine(\n",
    "            locations=good_trace,\n",
    "            color=\"#FF0000\",\n",
    "            tooltip=\"Real location\",\n",
    "        ).add_to(map)\n",
    "\n",
    "        folium.PolyLine(\n",
    "            locations=[(lat, lon) for lat, lon, _ in locations],\n",
    "            color=\"#0000FF\",\n",
    "            tooltip=\"Obfuscated location\",\n",
    "        ).add_to(map)\n",
    "\n",
    "        for blob in blobs:\n",
    "            folium.Circle(\n",
    "                location=[blob[0], blob[1]],\n",
    "                radius=blob[2],\n",
    "                fill_opacity=0.2,\n",
    "                fill_color=\"cornflowerblue\",\n",
    "            ).add_to(map)\n",
    "        map.save(f\"{staticFolder}/obfuscated/{radius}_{time_delta}.html\")"
   ]
  }
 ],
 "metadata": {
  "kernelspec": {
   "display_name": ".venv",
   "language": "python",
   "name": "python3"
  },
  "language_info": {
   "codemirror_mode": {
    "name": "ipython",
    "version": 3
   },
   "file_extension": ".py",
   "mimetype": "text/x-python",
   "name": "python",
   "nbconvert_exporter": "python",
   "pygments_lexer": "ipython3",
   "version": "3.12.6"
  }
 },
 "nbformat": 4,
 "nbformat_minor": 2
}
