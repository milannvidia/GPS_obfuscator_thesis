{
 "cells": [
  {
   "cell_type": "code",
   "execution_count": 1,
   "metadata": {},
   "outputs": [],
   "source": [
    "import pandas as pd\n",
    "\n",
    "from typing import List, Tuple\n",
    "from dotenv import load_dotenv\n",
    "import os\n",
    "from typing import Callable\n",
    "\n",
    "load_dotenv()\n",
    "raw_data_folder = os.getenv(\"rawDataDirectory\")\n",
    "data_folder = os.getenv(\"dataFolder\")\n",
    "privateLatStr = os.getenv(\"privateLat\")\n",
    "privateLonStr = os.getenv(\"privateLon\")\n",
    "privateRadStr = os.getenv(\"privateRad\")\n",
    "\n",
    "assert (\n",
    "    privateLatStr is not None\n",
    "    and privateLonStr is not None\n",
    "    and privateRadStr is not None\n",
    ")\n",
    "\n",
    "privateLat = float(privateLatStr)\n",
    "privateLon = float(privateLonStr)\n",
    "privateRad = float(privateRadStr)\n",
    "\n",
    "from util.clean_file import filter_by_distance\n",
    "\n",
    "filterFunction: Callable[[float, float], bool] = lambda lat, lon: filter_by_distance(\n",
    "    (lat, lon), (privateLat, privateLon, privateRad)\n",
    ")"
   ]
  },
  {
   "cell_type": "code",
   "execution_count": 2,
   "metadata": {},
   "outputs": [],
   "source": [
    "def read_good_trace():\n",
    "    locations = pd.read_csv(\n",
    "        f\"{raw_data_folder}/data_18_02\",\n",
    "        delimiter=\";\",\n",
    "        header=0,\n",
    "        dtype={\n",
    "            \"finePermission\": bool,\n",
    "            \"foreGround\": bool,\n",
    "            \"priority\": int,\n",
    "            \"user\": str,\n",
    "            \"time\": int,\n",
    "            \"realLocation\": str,\n",
    "            \"obfuscatedLocation\": str,\n",
    "        },\n",
    "    )\n",
    "\n",
    "    locations[\"time\"] = pd.to_datetime(locations[\"time\"], unit=\"ms\")\n",
    "    goodTrace = locations[locations[\"user\"] == \"bd9df063-0d45-4e20-b604-7eb16d0954f5\"]\n",
    "    real_location_tuples: List[Tuple[float, float, int]] = (\n",
    "        goodTrace[\"realLocation\"].apply(eval).tolist()\n",
    "    )\n",
    "    return real_location_tuples"
   ]
  },
  {
   "cell_type": "code",
   "execution_count": 3,
   "metadata": {},
   "outputs": [
    {
     "name": "stdout",
     "output_type": "stream",
     "text": [
      "10889\n",
      "10740\n"
     ]
    }
   ],
   "source": [
    "trace = read_good_trace()\n",
    "print(len(trace))\n",
    "\n",
    "trace = [loc for loc in trace if filterFunction(loc[0], loc[1])]\n",
    "print(len(trace))\n",
    "\n",
    "with open(f\"{data_folder}/good_trace\", \"w\") as file:\n",
    "\n",
    "    for item in trace:\n",
    "\n",
    "        file.write(f\"{item[0]}, {item[1]}, {item[2]}\\n\")"
   ]
  }
 ],
 "metadata": {
  "kernelspec": {
   "display_name": ".venv",
   "language": "python",
   "name": "python3"
  },
  "language_info": {
   "codemirror_mode": {
    "name": "ipython",
    "version": 3
   },
   "file_extension": ".py",
   "mimetype": "text/x-python",
   "name": "python",
   "nbconvert_exporter": "python",
   "pygments_lexer": "ipython3",
   "version": "3.12.6"
  }
 },
 "nbformat": 4,
 "nbformat_minor": 2
}
