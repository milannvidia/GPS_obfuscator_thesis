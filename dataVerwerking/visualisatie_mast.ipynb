{
 "cells": [
  {
   "cell_type": "code",
   "execution_count": null,
   "metadata": {},
   "outputs": [],
   "source": [
    "import pandas as pd\n",
    "import folium\n",
    "from folium.plugins import MarkerCluster\n",
    "import dataVerwerkingFunction"
   ]
  },
  {
   "cell_type": "code",
   "execution_count": 9,
   "metadata": {},
   "outputs": [],
   "source": [
    "# coordinaten van de masten\n",
    "coordinates=dataVerwerkingFunction.get_masten('../data/zendmasten_vlaanderen.json')\n",
    "coordinates=coordinates['geometry.coordinates']"
   ]
  },
  {
   "cell_type": "code",
   "execution_count": 10,
   "metadata": {},
   "outputs": [],
   "source": [
    "\n",
    "my_map=folium.Map(location=[51.03026196820101, 4.313671968519308],zoom_start=10)\n",
    "marker_cluster=MarkerCluster().add_to(my_map)\n",
    "for coord in coordinates:\n",
    "    folium.Marker([coord[1], coord[0]]).add_to(marker_cluster)\n",
    "my_map.save(\"../output/masten.html\")"
   ]
  }
 ],
 "metadata": {
  "kernelspec": {
   "display_name": ".env",
   "language": "python",
   "name": "python3"
  },
  "language_info": {
   "codemirror_mode": {
    "name": "ipython",
    "version": 3
   },
   "file_extension": ".py",
   "mimetype": "text/x-python",
   "name": "python",
   "nbconvert_exporter": "python",
   "pygments_lexer": "ipython3",
   "version": "3.12.6"
  }
 },
 "nbformat": 4,
 "nbformat_minor": 2
}
