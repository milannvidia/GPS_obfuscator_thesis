{
 "cells": [
  {
   "cell_type": "code",
   "execution_count": 1,
   "metadata": {},
   "outputs": [],
   "source": [
    "# imports\n",
    "import pandas as pd\n",
    "import folium\n",
    "from folium.plugins import MarkerCluster\n",
    "from dotenv import load_dotenv\n",
    "import os\n",
    "from typing import Callable\n",
    "\n",
    "load_dotenv()\n",
    "raw_data_folder = os.getenv(\"rawDataDirectory\")\n",
    "data_folder = os.getenv(\"dataFolder\")\n",
    "privateLatStr = os.getenv(\"privateLat\")\n",
    "privateLonStr = os.getenv(\"privateLon\")\n",
    "privateRadStr = os.getenv(\"privateRad\")\n",
    "assert (\n",
    "    privateLatStr is not None\n",
    "    and privateLonStr is not None\n",
    "    and privateRadStr is not None\n",
    ")\n",
    "\n",
    "privateLat = float(privateLatStr)\n",
    "privateLon = float(privateLonStr)\n",
    "privateRad = float(privateRadStr)\n",
    "\n",
    "from util.clean_file import filter_by_distance\n",
    "\n",
    "filterFunction: Callable[[float, float], bool] = lambda lat, lon: filter_by_distance(\n",
    "    (lat, lon), (privateLat, privateLon, privateRad)\n",
    ")\n",
    "# import dataVerwerkingFunction"
   ]
  },
  {
   "cell_type": "code",
   "execution_count": 2,
   "metadata": {},
   "outputs": [
    {
     "name": "stdout",
     "output_type": "stream",
     "text": [
      "(7090, 7)\n",
      "(3279, 7)\n"
     ]
    }
   ],
   "source": [
    "init = pd.read_csv(  # type: ignore\n",
    "    f\"{raw_data_folder}/data_V1\",\n",
    "    delimiter=\";\",\n",
    "    header=0,\n",
    "    dtype={\n",
    "        \"finePermission\": bool,\n",
    "        \"foreground\": bool,\n",
    "        \"user\": str,\n",
    "        \"latitude\": float,\n",
    "        \"longitude\": float,\n",
    "        \"time\": int,\n",
    "        \"accuracy\": float,\n",
    "    },\n",
    ")\n",
    "init[\"time\"] = pd.to_datetime(init[\"time\"], unit=\"ms\")  # type: ignore\n",
    "print(init.shape)\n",
    "data = init[\n",
    "    init.apply(\n",
    "        lambda row: filterFunction(row[\"latitude\"], row[\"longitude\"]), # type: ignore\n",
    "        axis=1,\n",
    "    )\n",
    "]\n",
    "print(data.shape)\n",
    "\n",
    "\n",
    "# coordinaten van de masten(comment out if not needed)\n",
    "# coordinates=dataVerwerkingFunction.get_masten('../data/zendmasten_vlaanderen.json')\n",
    "# coordinates=coordinates['geometry.coordinates']"
   ]
  },
  {
   "cell_type": "code",
   "execution_count": 3,
   "metadata": {},
   "outputs": [
    {
     "name": "stdout",
     "output_type": "stream",
     "text": [
      "user              date      \n",
      "cfcca27c720dfceb  2024-10-04     293\n",
      "                  2024-10-05    1031\n",
      "                  2024-10-06     663\n",
      "                  2024-10-07    1292\n",
      "dtype: int64\n"
     ]
    },
    {
     "name": "stderr",
     "output_type": "stream",
     "text": [
      "C:\\Users\\MilanSchollier\\AppData\\Local\\Temp\\ipykernel_18008\\1670045810.py:2: SettingWithCopyWarning: \n",
      "A value is trying to be set on a copy of a slice from a DataFrame.\n",
      "Try using .loc[row_indexer,col_indexer] = value instead\n",
      "\n",
      "See the caveats in the documentation: https://pandas.pydata.org/pandas-docs/stable/user_guide/indexing.html#returning-a-view-versus-a-copy\n",
      "  data['date'] = data['time'].dt.date\n"
     ]
    }
   ],
   "source": [
    "# data manipulation\n",
    "data['date'] = data['time'].dt.date\n",
    "groups=data.groupby(['user','date']) # type: ignore\n",
    "print(groups.size())"
   ]
  },
  {
   "cell_type": "code",
   "execution_count": 4,
   "metadata": {},
   "outputs": [],
   "source": [
    "# maakt voor ieder device en per dag een groep aan\n",
    "for (user,date), group in groups:\n",
    "    map = folium.Map(location=[group['latitude'].mean(),group['longitude'].mean()],zoom_start=9)\n",
    "    \n",
    "    # voor masten(comment out if not needed)\n",
    "    # marker_cluster=MarkerCluster().add_to(map)\n",
    "    # for coord in coordinates:\n",
    "    #     folium.Marker([coord[1], coord[0]]).add_to(marker_cluster)\n",
    "    \n",
    "\n",
    "    # 2 trails\n",
    "    fineTrail=[]\n",
    "    coarseTrail=[]       \n",
    "    for index,row in group.iterrows():\n",
    "        if(row['finePermission']):\n",
    "            fineTrail.append((row['latitude'],row['longitude']))\n",
    "        else:\n",
    "            coarseTrail.append((row['latitude'],row['longitude']))\n",
    "    folium.PolyLine(locations=fineTrail, color=\"#FF0000\", tooltip=\"fine grained location\").add_to(map)\n",
    "    folium.PolyLine(locations=coarseTrail, color=\"#0000FF\", tooltip=\"coarse grained location\").add_to(map)\n",
    "    map.save(f\"{data_folder}/v1/{date}.html\")"
   ]
  }
 ],
 "metadata": {
  "kernelspec": {
   "display_name": ".venv",
   "language": "python",
   "name": "python3"
  },
  "language_info": {
   "codemirror_mode": {
    "name": "ipython",
    "version": 3
   },
   "file_extension": ".py",
   "mimetype": "text/x-python",
   "name": "python",
   "nbconvert_exporter": "python",
   "pygments_lexer": "ipython3",
   "version": "3.12.6"
  }
 },
 "nbformat": 4,
 "nbformat_minor": 2
}
